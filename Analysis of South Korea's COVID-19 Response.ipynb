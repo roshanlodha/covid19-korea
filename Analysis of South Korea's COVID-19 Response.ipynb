{
 "cells": [
  {
   "cell_type": "markdown",
   "metadata": {},
   "source": [
    "<img src=\"covid19-banner.jpg\">"
   ]
  },
  {
   "cell_type": "markdown",
   "metadata": {},
   "source": [
    "# Looking at South Korea's COVID-19 Response #\n",
    "<i> Author: Roshan Lodha </i> <br>\n",
    "Source: <a href='https://www.kaggle.com/kimjihoo/coronavirusdataset#PatientInfo.csv'>datartist on Kaggle</a><br>\n",
    "<a href=\"./Analysis of South Korea's COVID-19 Response.ipynb\" download>Download</a> this notebook.\n",
    "\n",
    "South Korea's response to the novel coronavirus was praised worldwide as one of the most immediate and effective responses of any nation. This response was in part due to the high volume of data available not only to physicians but also the public. Here we explore how just a small subset of the data can be used to study the impact of the virus and model its outcomes. \n",
    "\n",
    "Assumptions:\n",
    "* The three thousand or so entries provided in this dataset are a representative and unbiased sample of South Korea's true case distribution. "
   ]
  },
  {
   "cell_type": "code",
   "execution_count": 1,
   "metadata": {},
   "outputs": [],
   "source": [
    "import numpy as np\n",
    "import pandas as pd\n",
    "import matplotlib.pyplot as plt\n",
    "pd.options.mode.chained_assignment = None  # suppress warning; default='warn'\n",
    "import seaborn as sns\n",
    "\n",
    "import warnings\n",
    "warnings.filterwarnings(\"ignore\")"
   ]
  },
  {
   "cell_type": "code",
   "execution_count": 2,
   "metadata": {
    "scrolled": false
   },
   "outputs": [
    {
     "data": {
      "text/html": [
       "<div>\n",
       "<style scoped>\n",
       "    .dataframe tbody tr th:only-of-type {\n",
       "        vertical-align: middle;\n",
       "    }\n",
       "\n",
       "    .dataframe tbody tr th {\n",
       "        vertical-align: top;\n",
       "    }\n",
       "\n",
       "    .dataframe thead th {\n",
       "        text-align: right;\n",
       "    }\n",
       "</style>\n",
       "<table border=\"1\" class=\"dataframe\">\n",
       "  <thead>\n",
       "    <tr style=\"text-align: right;\">\n",
       "      <th></th>\n",
       "      <th>patient_id</th>\n",
       "      <th>global_num</th>\n",
       "      <th>sex</th>\n",
       "      <th>birth_year</th>\n",
       "      <th>age</th>\n",
       "      <th>country</th>\n",
       "      <th>province</th>\n",
       "      <th>city</th>\n",
       "      <th>disease</th>\n",
       "      <th>infection_case</th>\n",
       "      <th>infection_order</th>\n",
       "      <th>infected_by</th>\n",
       "      <th>contact_number</th>\n",
       "      <th>symptom_onset_date</th>\n",
       "      <th>confirmed_date</th>\n",
       "      <th>released_date</th>\n",
       "      <th>deceased_date</th>\n",
       "      <th>state</th>\n",
       "    </tr>\n",
       "  </thead>\n",
       "  <tbody>\n",
       "    <tr>\n",
       "      <th>0</th>\n",
       "      <td>1000000001</td>\n",
       "      <td>2.0</td>\n",
       "      <td>male</td>\n",
       "      <td>1964.0</td>\n",
       "      <td>50s</td>\n",
       "      <td>Korea</td>\n",
       "      <td>Seoul</td>\n",
       "      <td>Gangseo-gu</td>\n",
       "      <td>NaN</td>\n",
       "      <td>overseas inflow</td>\n",
       "      <td>1.0</td>\n",
       "      <td>NaN</td>\n",
       "      <td>75.0</td>\n",
       "      <td>2020-01-22</td>\n",
       "      <td>2020-01-23</td>\n",
       "      <td>2020-02-05</td>\n",
       "      <td>NaN</td>\n",
       "      <td>released</td>\n",
       "    </tr>\n",
       "    <tr>\n",
       "      <th>1</th>\n",
       "      <td>1000000002</td>\n",
       "      <td>5.0</td>\n",
       "      <td>male</td>\n",
       "      <td>1987.0</td>\n",
       "      <td>30s</td>\n",
       "      <td>Korea</td>\n",
       "      <td>Seoul</td>\n",
       "      <td>Jungnang-gu</td>\n",
       "      <td>NaN</td>\n",
       "      <td>overseas inflow</td>\n",
       "      <td>1.0</td>\n",
       "      <td>NaN</td>\n",
       "      <td>31.0</td>\n",
       "      <td>NaN</td>\n",
       "      <td>2020-01-30</td>\n",
       "      <td>2020-03-02</td>\n",
       "      <td>NaN</td>\n",
       "      <td>released</td>\n",
       "    </tr>\n",
       "    <tr>\n",
       "      <th>2</th>\n",
       "      <td>1000000003</td>\n",
       "      <td>6.0</td>\n",
       "      <td>male</td>\n",
       "      <td>1964.0</td>\n",
       "      <td>50s</td>\n",
       "      <td>Korea</td>\n",
       "      <td>Seoul</td>\n",
       "      <td>Jongno-gu</td>\n",
       "      <td>NaN</td>\n",
       "      <td>contact with patient</td>\n",
       "      <td>2.0</td>\n",
       "      <td>2.002000e+09</td>\n",
       "      <td>17.0</td>\n",
       "      <td>NaN</td>\n",
       "      <td>2020-01-30</td>\n",
       "      <td>2020-02-19</td>\n",
       "      <td>NaN</td>\n",
       "      <td>released</td>\n",
       "    </tr>\n",
       "    <tr>\n",
       "      <th>3</th>\n",
       "      <td>1000000004</td>\n",
       "      <td>7.0</td>\n",
       "      <td>male</td>\n",
       "      <td>1991.0</td>\n",
       "      <td>20s</td>\n",
       "      <td>Korea</td>\n",
       "      <td>Seoul</td>\n",
       "      <td>Mapo-gu</td>\n",
       "      <td>NaN</td>\n",
       "      <td>overseas inflow</td>\n",
       "      <td>1.0</td>\n",
       "      <td>NaN</td>\n",
       "      <td>9.0</td>\n",
       "      <td>2020-01-26</td>\n",
       "      <td>2020-01-30</td>\n",
       "      <td>2020-02-15</td>\n",
       "      <td>NaN</td>\n",
       "      <td>released</td>\n",
       "    </tr>\n",
       "    <tr>\n",
       "      <th>4</th>\n",
       "      <td>1000000005</td>\n",
       "      <td>9.0</td>\n",
       "      <td>female</td>\n",
       "      <td>1992.0</td>\n",
       "      <td>20s</td>\n",
       "      <td>Korea</td>\n",
       "      <td>Seoul</td>\n",
       "      <td>Seongbuk-gu</td>\n",
       "      <td>NaN</td>\n",
       "      <td>contact with patient</td>\n",
       "      <td>2.0</td>\n",
       "      <td>1.000000e+09</td>\n",
       "      <td>2.0</td>\n",
       "      <td>NaN</td>\n",
       "      <td>2020-01-31</td>\n",
       "      <td>2020-02-24</td>\n",
       "      <td>NaN</td>\n",
       "      <td>released</td>\n",
       "    </tr>\n",
       "  </tbody>\n",
       "</table>\n",
       "</div>"
      ],
      "text/plain": [
       "   patient_id  global_num     sex  birth_year  age country province  \\\n",
       "0  1000000001         2.0    male      1964.0  50s   Korea    Seoul   \n",
       "1  1000000002         5.0    male      1987.0  30s   Korea    Seoul   \n",
       "2  1000000003         6.0    male      1964.0  50s   Korea    Seoul   \n",
       "3  1000000004         7.0    male      1991.0  20s   Korea    Seoul   \n",
       "4  1000000005         9.0  female      1992.0  20s   Korea    Seoul   \n",
       "\n",
       "          city disease        infection_case  infection_order   infected_by  \\\n",
       "0   Gangseo-gu     NaN       overseas inflow              1.0           NaN   \n",
       "1  Jungnang-gu     NaN       overseas inflow              1.0           NaN   \n",
       "2    Jongno-gu     NaN  contact with patient              2.0  2.002000e+09   \n",
       "3      Mapo-gu     NaN       overseas inflow              1.0           NaN   \n",
       "4  Seongbuk-gu     NaN  contact with patient              2.0  1.000000e+09   \n",
       "\n",
       "   contact_number symptom_onset_date confirmed_date released_date  \\\n",
       "0            75.0         2020-01-22     2020-01-23    2020-02-05   \n",
       "1            31.0                NaN     2020-01-30    2020-03-02   \n",
       "2            17.0                NaN     2020-01-30    2020-02-19   \n",
       "3             9.0         2020-01-26     2020-01-30    2020-02-15   \n",
       "4             2.0                NaN     2020-01-31    2020-02-24   \n",
       "\n",
       "  deceased_date     state  \n",
       "0           NaN  released  \n",
       "1           NaN  released  \n",
       "2           NaN  released  \n",
       "3           NaN  released  \n",
       "4           NaN  released  "
      ]
     },
     "execution_count": 2,
     "metadata": {},
     "output_type": "execute_result"
    }
   ],
   "source": [
    "patients = pd.read_csv('PatientInfo.csv')\n",
    "patients.head()"
   ]
  },
  {
   "cell_type": "markdown",
   "metadata": {},
   "source": [
    "## The Data ##\n",
    "Data Keys:\n",
    "* patient_id: the ID of the patient\n",
    "* global_num: the number given by KCDC\n",
    "* sex: the sex of the patient\n",
    "* birth_year: the birth year of the patient\n",
    "* age: the age of the patient\n",
    "* country: the country of the patient\n",
    "* province: the province of the patient\n",
    "* city: the city of the patient\n",
    "* disease: TRUE: underlying disease / FALSE: no disease\n",
    "* infection_case: the case of infection\n",
    "* infection_order: the order of infection\n",
    "* infected_by: the ID of who infected the patient\n",
    "* contact_number: the number of contacts with people\n",
    "* symptom_onset_date: the date of symptom onset\n",
    "* confirmed_date: the date of being confirmed\n",
    "* released_date: the date of being released\n",
    "* deceased_date: the date of being deceased\n",
    "* state: isolated / released / deceased\n",
    "\n",
    "A lot of the data is either missing or has nonsensical values. Thus, we must clean the data. The largets known factor heavily covarying with the novel coronavirus's mortality rate is age, so it is a good place to start with cleaning and subsequent visualizations. "
   ]
  },
  {
   "cell_type": "code",
   "execution_count": 3,
   "metadata": {
    "scrolled": true
   },
   "outputs": [
    {
     "name": "stdout",
     "output_type": "stream",
     "text": [
      "Entries with no age: 105\n",
      "Entries with no birth year: 464\n"
     ]
    }
   ],
   "source": [
    "data = patients.drop(columns=['patient_id', 'global_num', 'birth_year', 'age', 'disease', 'infected_by'])\n",
    "print(\"Entries with no age:\", len(patients[patients['age'].isnull()]))\n",
    "print(\"Entries with no birth year:\", len(patients[patients['birth_year'].isnull()]))"
   ]
  },
  {
   "cell_type": "code",
   "execution_count": 4,
   "metadata": {},
   "outputs": [
    {
     "name": "stdout",
     "output_type": "stream",
     "text": [
      "Entries with no age or birth year: 0\n"
     ]
    },
    {
     "data": {
      "text/html": [
       "<div>\n",
       "<style scoped>\n",
       "    .dataframe tbody tr th:only-of-type {\n",
       "        vertical-align: middle;\n",
       "    }\n",
       "\n",
       "    .dataframe tbody tr th {\n",
       "        vertical-align: top;\n",
       "    }\n",
       "\n",
       "    .dataframe thead th {\n",
       "        text-align: right;\n",
       "    }\n",
       "</style>\n",
       "<table border=\"1\" class=\"dataframe\">\n",
       "  <thead>\n",
       "    <tr style=\"text-align: right;\">\n",
       "      <th></th>\n",
       "      <th>sex</th>\n",
       "      <th>country</th>\n",
       "      <th>province</th>\n",
       "      <th>city</th>\n",
       "      <th>infection_case</th>\n",
       "      <th>infection_order</th>\n",
       "      <th>contact_number</th>\n",
       "      <th>symptom_onset_date</th>\n",
       "      <th>confirmed_date</th>\n",
       "      <th>released_date</th>\n",
       "      <th>deceased_date</th>\n",
       "      <th>state</th>\n",
       "      <th>age</th>\n",
       "    </tr>\n",
       "  </thead>\n",
       "  <tbody>\n",
       "    <tr>\n",
       "      <th>0</th>\n",
       "      <td>male</td>\n",
       "      <td>Korea</td>\n",
       "      <td>Seoul</td>\n",
       "      <td>Gangseo-gu</td>\n",
       "      <td>overseas inflow</td>\n",
       "      <td>1.0</td>\n",
       "      <td>75.0</td>\n",
       "      <td>2020-01-22</td>\n",
       "      <td>2020-01-23</td>\n",
       "      <td>2020-02-05</td>\n",
       "      <td>NaN</td>\n",
       "      <td>released</td>\n",
       "      <td>56.0</td>\n",
       "    </tr>\n",
       "    <tr>\n",
       "      <th>1</th>\n",
       "      <td>male</td>\n",
       "      <td>Korea</td>\n",
       "      <td>Seoul</td>\n",
       "      <td>Jungnang-gu</td>\n",
       "      <td>overseas inflow</td>\n",
       "      <td>1.0</td>\n",
       "      <td>31.0</td>\n",
       "      <td>NaN</td>\n",
       "      <td>2020-01-30</td>\n",
       "      <td>2020-03-02</td>\n",
       "      <td>NaN</td>\n",
       "      <td>released</td>\n",
       "      <td>33.0</td>\n",
       "    </tr>\n",
       "    <tr>\n",
       "      <th>2</th>\n",
       "      <td>male</td>\n",
       "      <td>Korea</td>\n",
       "      <td>Seoul</td>\n",
       "      <td>Jongno-gu</td>\n",
       "      <td>contact with patient</td>\n",
       "      <td>2.0</td>\n",
       "      <td>17.0</td>\n",
       "      <td>NaN</td>\n",
       "      <td>2020-01-30</td>\n",
       "      <td>2020-02-19</td>\n",
       "      <td>NaN</td>\n",
       "      <td>released</td>\n",
       "      <td>56.0</td>\n",
       "    </tr>\n",
       "    <tr>\n",
       "      <th>3</th>\n",
       "      <td>male</td>\n",
       "      <td>Korea</td>\n",
       "      <td>Seoul</td>\n",
       "      <td>Mapo-gu</td>\n",
       "      <td>overseas inflow</td>\n",
       "      <td>1.0</td>\n",
       "      <td>9.0</td>\n",
       "      <td>2020-01-26</td>\n",
       "      <td>2020-01-30</td>\n",
       "      <td>2020-02-15</td>\n",
       "      <td>NaN</td>\n",
       "      <td>released</td>\n",
       "      <td>29.0</td>\n",
       "    </tr>\n",
       "    <tr>\n",
       "      <th>4</th>\n",
       "      <td>female</td>\n",
       "      <td>Korea</td>\n",
       "      <td>Seoul</td>\n",
       "      <td>Seongbuk-gu</td>\n",
       "      <td>contact with patient</td>\n",
       "      <td>2.0</td>\n",
       "      <td>2.0</td>\n",
       "      <td>NaN</td>\n",
       "      <td>2020-01-31</td>\n",
       "      <td>2020-02-24</td>\n",
       "      <td>NaN</td>\n",
       "      <td>released</td>\n",
       "      <td>28.0</td>\n",
       "    </tr>\n",
       "  </tbody>\n",
       "</table>\n",
       "</div>"
      ],
      "text/plain": [
       "      sex country province         city        infection_case  \\\n",
       "0    male   Korea    Seoul   Gangseo-gu       overseas inflow   \n",
       "1    male   Korea    Seoul  Jungnang-gu       overseas inflow   \n",
       "2    male   Korea    Seoul    Jongno-gu  contact with patient   \n",
       "3    male   Korea    Seoul      Mapo-gu       overseas inflow   \n",
       "4  female   Korea    Seoul  Seongbuk-gu  contact with patient   \n",
       "\n",
       "   infection_order  contact_number symptom_onset_date confirmed_date  \\\n",
       "0              1.0            75.0         2020-01-22     2020-01-23   \n",
       "1              1.0            31.0                NaN     2020-01-30   \n",
       "2              2.0            17.0                NaN     2020-01-30   \n",
       "3              1.0             9.0         2020-01-26     2020-01-30   \n",
       "4              2.0             2.0                NaN     2020-01-31   \n",
       "\n",
       "  released_date deceased_date     state   age  \n",
       "0    2020-02-05           NaN  released  56.0  \n",
       "1    2020-03-02           NaN  released  33.0  \n",
       "2    2020-02-19           NaN  released  56.0  \n",
       "3    2020-02-15           NaN  released  29.0  \n",
       "4    2020-02-24           NaN  released  28.0  "
      ]
     },
     "execution_count": 4,
     "metadata": {},
     "output_type": "execute_result"
    }
   ],
   "source": [
    "date_by_age = patients['age'].fillna('0').str.extract(r'(\\d+)').astype(int)\n",
    "date_by_birth_year = 2020-patients['birth_year'].fillna(2020)\n",
    "data['age'] = pd.concat([date_by_age, date_by_birth_year], axis=1).max(axis=1)\n",
    "print(\"Entries with no age or birth year:\", len(data[data['age'].isnull()]))\n",
    "data.head(5)"
   ]
  },
  {
   "cell_type": "code",
   "execution_count": 5,
   "metadata": {
    "scrolled": false
   },
   "outputs": [
    {
     "data": {
      "image/png": "[encoded data removed]",
      "text/plain": [
       "<Figure size 432x288 with 1 Axes>"
      ]
     },
     "metadata": {
      "needs_background": "light"
     },
     "output_type": "display_data"
    }
   ],
   "source": [
    "plt.title(\"Age Distribution of South Korean COVID-19 Cases\")\n",
    "ax1 = sns.distplot(data['age'], rug=True, bins=10)"
   ]
  },
  {
   "cell_type": "markdown",
   "metadata": {},
   "source": [
    "We can now start cleaning other variables."
   ]
  },
  {
   "cell_type": "code",
   "execution_count": 6,
   "metadata": {},
   "outputs": [
    {
     "name": "stdout",
     "output_type": "stream",
     "text": [
      "Entries with no infection order: 3097\n",
      "Entries with no symptom onset date: 2682\n",
      "Entries with no confirmed date: 0\n",
      "Entries with a contact value: 589\n",
      "Entries with an infection order: 31\n"
     ]
    }
   ],
   "source": [
    "print(\"Entries with no infection order:\", len(data[data['infection_order'].isnull()]))\n",
    "print(\"Entries with no symptom onset date:\", len(data[data['symptom_onset_date'].isnull()]))\n",
    "print(\"Entries with no confirmed date:\", len(data[data['confirmed_date'].isnull()])) #should be 0\n",
    "print(\"Entries with a contact value:\", len(data[data['contact_number'].notnull()])) \n",
    "print(\"Entries with an infection order:\", len(data[data['infection_order'].notnull()]))"
   ]
  },
  {
   "cell_type": "markdown",
   "metadata": {},
   "source": [
    "Python has a built in \"DateTime\" object, that allows for handy manipulation of dates. We can convert all data-like columns to DateTime object for futher analysis."
   ]
  },
  {
   "cell_type": "code",
   "execution_count": 7,
   "metadata": {
    "scrolled": false
   },
   "outputs": [
    {
     "data": {
      "text/html": [
       "<div>\n",
       "<style scoped>\n",
       "    .dataframe tbody tr th:only-of-type {\n",
       "        vertical-align: middle;\n",
       "    }\n",
       "\n",
       "    .dataframe tbody tr th {\n",
       "        vertical-align: top;\n",
       "    }\n",
       "\n",
       "    .dataframe thead th {\n",
       "        text-align: right;\n",
       "    }\n",
       "</style>\n",
       "<table border=\"1\" class=\"dataframe\">\n",
       "  <thead>\n",
       "    <tr style=\"text-align: right;\">\n",
       "      <th></th>\n",
       "      <th>sex</th>\n",
       "      <th>country</th>\n",
       "      <th>province</th>\n",
       "      <th>city</th>\n",
       "      <th>infection_case</th>\n",
       "      <th>infection_order</th>\n",
       "      <th>contact_number</th>\n",
       "      <th>symptom_onset_date</th>\n",
       "      <th>confirmed_date</th>\n",
       "      <th>released_date</th>\n",
       "      <th>deceased_date</th>\n",
       "      <th>state</th>\n",
       "      <th>age</th>\n",
       "      <th>time_before_hospitalization</th>\n",
       "      <th>time_in_hospital</th>\n",
       "    </tr>\n",
       "  </thead>\n",
       "  <tbody>\n",
       "    <tr>\n",
       "      <th>0</th>\n",
       "      <td>male</td>\n",
       "      <td>Korea</td>\n",
       "      <td>Seoul</td>\n",
       "      <td>Gangseo-gu</td>\n",
       "      <td>overseas inflow</td>\n",
       "      <td>1.0</td>\n",
       "      <td>75.0</td>\n",
       "      <td>2020-01-22</td>\n",
       "      <td>2020-01-23</td>\n",
       "      <td>2020-02-05</td>\n",
       "      <td>NaN</td>\n",
       "      <td>released</td>\n",
       "      <td>56.0</td>\n",
       "      <td>1 days</td>\n",
       "      <td>13 days</td>\n",
       "    </tr>\n",
       "    <tr>\n",
       "      <th>1</th>\n",
       "      <td>male</td>\n",
       "      <td>Korea</td>\n",
       "      <td>Seoul</td>\n",
       "      <td>Jungnang-gu</td>\n",
       "      <td>overseas inflow</td>\n",
       "      <td>1.0</td>\n",
       "      <td>31.0</td>\n",
       "      <td>NaT</td>\n",
       "      <td>2020-01-30</td>\n",
       "      <td>2020-03-02</td>\n",
       "      <td>NaN</td>\n",
       "      <td>released</td>\n",
       "      <td>33.0</td>\n",
       "      <td>NaT</td>\n",
       "      <td>32 days</td>\n",
       "    </tr>\n",
       "    <tr>\n",
       "      <th>2</th>\n",
       "      <td>male</td>\n",
       "      <td>Korea</td>\n",
       "      <td>Seoul</td>\n",
       "      <td>Jongno-gu</td>\n",
       "      <td>contact with patient</td>\n",
       "      <td>2.0</td>\n",
       "      <td>17.0</td>\n",
       "      <td>NaT</td>\n",
       "      <td>2020-01-30</td>\n",
       "      <td>2020-02-19</td>\n",
       "      <td>NaN</td>\n",
       "      <td>released</td>\n",
       "      <td>56.0</td>\n",
       "      <td>NaT</td>\n",
       "      <td>20 days</td>\n",
       "    </tr>\n",
       "    <tr>\n",
       "      <th>3</th>\n",
       "      <td>male</td>\n",
       "      <td>Korea</td>\n",
       "      <td>Seoul</td>\n",
       "      <td>Mapo-gu</td>\n",
       "      <td>overseas inflow</td>\n",
       "      <td>1.0</td>\n",
       "      <td>9.0</td>\n",
       "      <td>2020-01-26</td>\n",
       "      <td>2020-01-30</td>\n",
       "      <td>2020-02-15</td>\n",
       "      <td>NaN</td>\n",
       "      <td>released</td>\n",
       "      <td>29.0</td>\n",
       "      <td>4 days</td>\n",
       "      <td>16 days</td>\n",
       "    </tr>\n",
       "    <tr>\n",
       "      <th>4</th>\n",
       "      <td>female</td>\n",
       "      <td>Korea</td>\n",
       "      <td>Seoul</td>\n",
       "      <td>Seongbuk-gu</td>\n",
       "      <td>contact with patient</td>\n",
       "      <td>2.0</td>\n",
       "      <td>2.0</td>\n",
       "      <td>NaT</td>\n",
       "      <td>2020-01-31</td>\n",
       "      <td>2020-02-24</td>\n",
       "      <td>NaN</td>\n",
       "      <td>released</td>\n",
       "      <td>28.0</td>\n",
       "      <td>NaT</td>\n",
       "      <td>24 days</td>\n",
       "    </tr>\n",
       "  </tbody>\n",
       "</table>\n",
       "</div>"
      ],
      "text/plain": [
       "      sex country province         city        infection_case  \\\n",
       "0    male   Korea    Seoul   Gangseo-gu       overseas inflow   \n",
       "1    male   Korea    Seoul  Jungnang-gu       overseas inflow   \n",
       "2    male   Korea    Seoul    Jongno-gu  contact with patient   \n",
       "3    male   Korea    Seoul      Mapo-gu       overseas inflow   \n",
       "4  female   Korea    Seoul  Seongbuk-gu  contact with patient   \n",
       "\n",
       "   infection_order  contact_number symptom_onset_date confirmed_date  \\\n",
       "0              1.0            75.0         2020-01-22     2020-01-23   \n",
       "1              1.0            31.0                NaT     2020-01-30   \n",
       "2              2.0            17.0                NaT     2020-01-30   \n",
       "3              1.0             9.0         2020-01-26     2020-01-30   \n",
       "4              2.0             2.0                NaT     2020-01-31   \n",
       "\n",
       "  released_date deceased_date     state   age time_before_hospitalization  \\\n",
       "0    2020-02-05           NaN  released  56.0                      1 days   \n",
       "1    2020-03-02           NaN  released  33.0                         NaT   \n",
       "2    2020-02-19           NaN  released  56.0                         NaT   \n",
       "3    2020-02-15           NaN  released  29.0                      4 days   \n",
       "4    2020-02-24           NaN  released  28.0                         NaT   \n",
       "\n",
       "  time_in_hospital  \n",
       "0          13 days  \n",
       "1          32 days  \n",
       "2          20 days  \n",
       "3          16 days  \n",
       "4          24 days  "
      ]
     },
     "execution_count": 7,
     "metadata": {},
     "output_type": "execute_result"
    }
   ],
   "source": [
    "data['symptom_onset_date'] = pd.to_datetime(data['symptom_onset_date'].replace(\" \", \"\"), \n",
    "                               format='%Y-%m-%d')\n",
    "data['confirmed_date'] = pd.to_datetime(data['confirmed_date'].replace(\" \", \"\"), \n",
    "                                 format='%Y-%m-%d')\n",
    "data['released_date'] = pd.to_datetime(data['released_date'].replace(\" \", \"\"), \n",
    "                                 format='%Y-%m-%d')\n",
    "data['time_before_hospitalization'] = data['confirmed_date'] - data['symptom_onset_date']\n",
    "data['time_in_hospital'] = data['released_date'] - data['confirmed_date'] #death or otherwise\n",
    "data.head(5)"
   ]
  },
  {
   "cell_type": "code",
   "execution_count": 8,
   "metadata": {},
   "outputs": [
    {
     "data": {
      "text/html": [
       "<div>\n",
       "<style scoped>\n",
       "    .dataframe tbody tr th:only-of-type {\n",
       "        vertical-align: middle;\n",
       "    }\n",
       "\n",
       "    .dataframe tbody tr th {\n",
       "        vertical-align: top;\n",
       "    }\n",
       "\n",
       "    .dataframe thead th {\n",
       "        text-align: right;\n",
       "    }\n",
       "</style>\n",
       "<table border=\"1\" class=\"dataframe\">\n",
       "  <thead>\n",
       "    <tr style=\"text-align: right;\">\n",
       "      <th></th>\n",
       "      <th>confirmed_date</th>\n",
       "      <th>count</th>\n",
       "      <th>cumulative_sum</th>\n",
       "    </tr>\n",
       "  </thead>\n",
       "  <tbody>\n",
       "    <tr>\n",
       "      <th>0</th>\n",
       "      <td>2020-01-20</td>\n",
       "      <td>1</td>\n",
       "      <td>1</td>\n",
       "    </tr>\n",
       "    <tr>\n",
       "      <th>1</th>\n",
       "      <td>2020-01-23</td>\n",
       "      <td>1</td>\n",
       "      <td>2</td>\n",
       "    </tr>\n",
       "    <tr>\n",
       "      <th>2</th>\n",
       "      <td>2020-01-26</td>\n",
       "      <td>1</td>\n",
       "      <td>3</td>\n",
       "    </tr>\n",
       "    <tr>\n",
       "      <th>3</th>\n",
       "      <td>2020-01-27</td>\n",
       "      <td>1</td>\n",
       "      <td>4</td>\n",
       "    </tr>\n",
       "    <tr>\n",
       "      <th>4</th>\n",
       "      <td>2020-01-30</td>\n",
       "      <td>3</td>\n",
       "      <td>7</td>\n",
       "    </tr>\n",
       "    <tr>\n",
       "      <th>...</th>\n",
       "      <td>...</td>\n",
       "      <td>...</td>\n",
       "      <td>...</td>\n",
       "    </tr>\n",
       "    <tr>\n",
       "      <th>60</th>\n",
       "      <td>2020-04-03</td>\n",
       "      <td>24</td>\n",
       "      <td>2982</td>\n",
       "    </tr>\n",
       "    <tr>\n",
       "      <th>61</th>\n",
       "      <td>2020-04-04</td>\n",
       "      <td>21</td>\n",
       "      <td>3003</td>\n",
       "    </tr>\n",
       "    <tr>\n",
       "      <th>62</th>\n",
       "      <td>2020-04-05</td>\n",
       "      <td>15</td>\n",
       "      <td>3018</td>\n",
       "    </tr>\n",
       "    <tr>\n",
       "      <th>63</th>\n",
       "      <td>2020-04-06</td>\n",
       "      <td>11</td>\n",
       "      <td>3029</td>\n",
       "    </tr>\n",
       "    <tr>\n",
       "      <th>64</th>\n",
       "      <td>2020-04-07</td>\n",
       "      <td>5</td>\n",
       "      <td>3034</td>\n",
       "    </tr>\n",
       "  </tbody>\n",
       "</table>\n",
       "<p>65 rows × 3 columns</p>\n",
       "</div>"
      ],
      "text/plain": [
       "   confirmed_date  count  cumulative_sum\n",
       "0      2020-01-20      1               1\n",
       "1      2020-01-23      1               2\n",
       "2      2020-01-26      1               3\n",
       "3      2020-01-27      1               4\n",
       "4      2020-01-30      3               7\n",
       "..            ...    ...             ...\n",
       "60     2020-04-03     24            2982\n",
       "61     2020-04-04     21            3003\n",
       "62     2020-04-05     15            3018\n",
       "63     2020-04-06     11            3029\n",
       "64     2020-04-07      5            3034\n",
       "\n",
       "[65 rows x 3 columns]"
      ]
     },
     "execution_count": 8,
     "metadata": {},
     "output_type": "execute_result"
    }
   ],
   "source": [
    "cases_by_day = data.groupby('confirmed_date').count()[['sex']].reset_index().rename(columns={'sex':'count'})\n",
    "cases_by_day['cumulative_sum'] = cases_by_day['count'].cumsum()\n",
    "cases_by_day"
   ]
  },
  {
   "cell_type": "code",
   "execution_count": 9,
   "metadata": {},
   "outputs": [
    {
     "data": {
      "image/png": "[encoded data removed]",
      "text/plain": [
       "<Figure size 432x288 with 1 Axes>"
      ]
     },
     "metadata": {
      "needs_background": "light"
     },
     "output_type": "display_data"
    }
   ],
   "source": [
    "ax7 = sns.lineplot(x='confirmed_date', y='cumulative_sum', data=cases_by_day)\n",
    "suppressor = ax7.set_yscale('log')"
   ]
  },
  {
   "cell_type": "code",
   "execution_count": 10,
   "metadata": {},
   "outputs": [
    {
     "name": "stdout",
     "output_type": "stream",
     "text": [
      "Average time to confirm after symptom onset: 4 days 07:03:54.606741\n",
      "Average time to release after confirmed: 20 days 05:47:53.394495\n"
     ]
    }
   ],
   "source": [
    "print(\"Average time to confirm after symptom onset:\", np.mean(data['time_before_hospitalization']))\n",
    "print(\"Average time to release after confirmed:\", np.mean(data['time_in_hospital']))"
   ]
  },
  {
   "cell_type": "code",
   "execution_count": 11,
   "metadata": {},
   "outputs": [
    {
     "name": "stdout",
     "output_type": "stream",
     "text": [
      "Entries with no infection case and no hospitalization time: 454\n"
     ]
    }
   ],
   "source": [
    "#time in hospital by infection type\n",
    "print(\"Entries with no infection case and no hospitalization time:\",\n",
    "      sum(data.dropna(subset=['time_in_hospital'])['infection_case'].isnull()))"
   ]
  },
  {
   "cell_type": "code",
   "execution_count": 12,
   "metadata": {
    "scrolled": false
   },
   "outputs": [
    {
     "data": {
      "image/png": "[encoded data removed]",
      "text/plain": [
       "<Figure size 1080x864 with 1 Axes>"
      ]
     },
     "metadata": {
      "needs_background": "light"
     },
     "output_type": "display_data"
    }
   ],
   "source": [
    "temp_data = data.dropna(subset=['infection_case', 'time_in_hospital'])\n",
    "temp_data['time_in_hospital'] = temp_data['time_in_hospital'].apply(pd.Timedelta.total_seconds) / (24*60*60)\n",
    "plt.figure(figsize=(15,12))\n",
    "plt.title(\"Hospitalization Time Distribution by Infection Case\")\n",
    "ax2 = sns.violinplot(x='infection_case', y='time_in_hospital', \n",
    "                     data=temp_data)\n",
    "ax2.axhline(np.median(temp_data['time_in_hospital']), ls='--')\n",
    "suppressor = ax2.set_xticklabels(ax2.get_xticklabels(), rotation=90)"
   ]
  },
  {
   "cell_type": "markdown",
   "metadata": {},
   "source": [
    "After plotting the infection's cause against the time spent in the hospital, a few things immediately pop out. Specifically, we can see that patients who were infected in a nursing home (associated with high age) spent well above the median time in this hospital (dotted blue line). This is something we would have expected, indicating that our analysis is sound. Similarly, a quick Google search of the \"Gyeongsan Seorin Silver Town\" reveals that it is a silver mine, a location likely to have poor respiratory health. We know that COVID-19 attacks the respiratory system, so this makes sense. "
   ]
  },
  {
   "cell_type": "code",
   "execution_count": 13,
   "metadata": {},
   "outputs": [
    {
     "name": "stdout",
     "output_type": "stream",
     "text": [
      "P-value: 2.2730538888858298e-08\n",
      "T-statistic: 5.589819789370226\n"
     ]
    }
   ],
   "source": [
    "from statsmodels.stats.weightstats import ztest\n",
    "t, p = ztest(x1=temp_data[temp_data['infection_case']=='Gyeongsan Jeil Silver Town']['time_in_hospital'],\n",
    "            value=np.mean(temp_data['time_in_hospital']))\n",
    "print(\"P-value:\", p)\n",
    "print(\"T-statistic:\", t)"
   ]
  },
  {
   "cell_type": "markdown",
   "metadata": {},
   "source": [
    "## Modeling ##\n",
    "Since our data is more or less cleaned, and we have some idea of factors that could be impact mortality rate, we can start begin modeling. Our input variables could be anything that could help predict mortality and our output is the probability of dying given our input. This relationship ($P(Y|X)$) is best mathematically modeled by a <a href='https://en.wikipedia.org/wiki/Logistic_regression'>logistic regression</a>."
   ]
  },
  {
   "cell_type": "code",
   "execution_count": 14,
   "metadata": {},
   "outputs": [
    {
     "data": {
      "text/html": [
       "<div>\n",
       "<style scoped>\n",
       "    .dataframe tbody tr th:only-of-type {\n",
       "        vertical-align: middle;\n",
       "    }\n",
       "\n",
       "    .dataframe tbody tr th {\n",
       "        vertical-align: top;\n",
       "    }\n",
       "\n",
       "    .dataframe thead th {\n",
       "        text-align: right;\n",
       "    }\n",
       "</style>\n",
       "<table border=\"1\" class=\"dataframe\">\n",
       "  <thead>\n",
       "    <tr style=\"text-align: right;\">\n",
       "      <th></th>\n",
       "      <th>sex</th>\n",
       "      <th>country</th>\n",
       "      <th>province</th>\n",
       "      <th>city</th>\n",
       "      <th>infection_case</th>\n",
       "      <th>infection_order</th>\n",
       "      <th>contact_number</th>\n",
       "      <th>symptom_onset_date</th>\n",
       "      <th>confirmed_date</th>\n",
       "      <th>released_date</th>\n",
       "      <th>deceased_date</th>\n",
       "      <th>state</th>\n",
       "      <th>age</th>\n",
       "      <th>time_before_hospitalization</th>\n",
       "      <th>time_in_hospital</th>\n",
       "      <th>dead</th>\n",
       "    </tr>\n",
       "  </thead>\n",
       "  <tbody>\n",
       "    <tr>\n",
       "      <th>0</th>\n",
       "      <td>male</td>\n",
       "      <td>Korea</td>\n",
       "      <td>Seoul</td>\n",
       "      <td>Gangseo-gu</td>\n",
       "      <td>overseas inflow</td>\n",
       "      <td>1.0</td>\n",
       "      <td>75.0</td>\n",
       "      <td>2020-01-22</td>\n",
       "      <td>2020-01-23</td>\n",
       "      <td>2020-02-05</td>\n",
       "      <td>NaN</td>\n",
       "      <td>released</td>\n",
       "      <td>56.0</td>\n",
       "      <td>1 days</td>\n",
       "      <td>13 days</td>\n",
       "      <td>0</td>\n",
       "    </tr>\n",
       "    <tr>\n",
       "      <th>1</th>\n",
       "      <td>male</td>\n",
       "      <td>Korea</td>\n",
       "      <td>Seoul</td>\n",
       "      <td>Jungnang-gu</td>\n",
       "      <td>overseas inflow</td>\n",
       "      <td>1.0</td>\n",
       "      <td>31.0</td>\n",
       "      <td>NaT</td>\n",
       "      <td>2020-01-30</td>\n",
       "      <td>2020-03-02</td>\n",
       "      <td>NaN</td>\n",
       "      <td>released</td>\n",
       "      <td>33.0</td>\n",
       "      <td>NaT</td>\n",
       "      <td>32 days</td>\n",
       "      <td>0</td>\n",
       "    </tr>\n",
       "    <tr>\n",
       "      <th>2</th>\n",
       "      <td>male</td>\n",
       "      <td>Korea</td>\n",
       "      <td>Seoul</td>\n",
       "      <td>Jongno-gu</td>\n",
       "      <td>contact with patient</td>\n",
       "      <td>2.0</td>\n",
       "      <td>17.0</td>\n",
       "      <td>NaT</td>\n",
       "      <td>2020-01-30</td>\n",
       "      <td>2020-02-19</td>\n",
       "      <td>NaN</td>\n",
       "      <td>released</td>\n",
       "      <td>56.0</td>\n",
       "      <td>NaT</td>\n",
       "      <td>20 days</td>\n",
       "      <td>0</td>\n",
       "    </tr>\n",
       "    <tr>\n",
       "      <th>3</th>\n",
       "      <td>male</td>\n",
       "      <td>Korea</td>\n",
       "      <td>Seoul</td>\n",
       "      <td>Mapo-gu</td>\n",
       "      <td>overseas inflow</td>\n",
       "      <td>1.0</td>\n",
       "      <td>9.0</td>\n",
       "      <td>2020-01-26</td>\n",
       "      <td>2020-01-30</td>\n",
       "      <td>2020-02-15</td>\n",
       "      <td>NaN</td>\n",
       "      <td>released</td>\n",
       "      <td>29.0</td>\n",
       "      <td>4 days</td>\n",
       "      <td>16 days</td>\n",
       "      <td>0</td>\n",
       "    </tr>\n",
       "    <tr>\n",
       "      <th>4</th>\n",
       "      <td>female</td>\n",
       "      <td>Korea</td>\n",
       "      <td>Seoul</td>\n",
       "      <td>Seongbuk-gu</td>\n",
       "      <td>contact with patient</td>\n",
       "      <td>2.0</td>\n",
       "      <td>2.0</td>\n",
       "      <td>NaT</td>\n",
       "      <td>2020-01-31</td>\n",
       "      <td>2020-02-24</td>\n",
       "      <td>NaN</td>\n",
       "      <td>released</td>\n",
       "      <td>28.0</td>\n",
       "      <td>NaT</td>\n",
       "      <td>24 days</td>\n",
       "      <td>0</td>\n",
       "    </tr>\n",
       "  </tbody>\n",
       "</table>\n",
       "</div>"
      ],
      "text/plain": [
       "      sex country province         city        infection_case  \\\n",
       "0    male   Korea    Seoul   Gangseo-gu       overseas inflow   \n",
       "1    male   Korea    Seoul  Jungnang-gu       overseas inflow   \n",
       "2    male   Korea    Seoul    Jongno-gu  contact with patient   \n",
       "3    male   Korea    Seoul      Mapo-gu       overseas inflow   \n",
       "4  female   Korea    Seoul  Seongbuk-gu  contact with patient   \n",
       "\n",
       "   infection_order  contact_number symptom_onset_date confirmed_date  \\\n",
       "0              1.0            75.0         2020-01-22     2020-01-23   \n",
       "1              1.0            31.0                NaT     2020-01-30   \n",
       "2              2.0            17.0                NaT     2020-01-30   \n",
       "3              1.0             9.0         2020-01-26     2020-01-30   \n",
       "4              2.0             2.0                NaT     2020-01-31   \n",
       "\n",
       "  released_date deceased_date     state   age time_before_hospitalization  \\\n",
       "0    2020-02-05           NaN  released  56.0                      1 days   \n",
       "1    2020-03-02           NaN  released  33.0                         NaT   \n",
       "2    2020-02-19           NaN  released  56.0                         NaT   \n",
       "3    2020-02-15           NaN  released  29.0                      4 days   \n",
       "4    2020-02-24           NaN  released  28.0                         NaT   \n",
       "\n",
       "  time_in_hospital  dead  \n",
       "0          13 days     0  \n",
       "1          32 days     0  \n",
       "2          20 days     0  \n",
       "3          16 days     0  \n",
       "4          24 days     0  "
      ]
     },
     "execution_count": 14,
     "metadata": {},
     "output_type": "execute_result"
    }
   ],
   "source": [
    "data['dead'] = (data['state'].factorize()[0] == 2).astype(int) #0: alive; 1: dead\n",
    "data.head(5)"
   ]
  },
  {
   "cell_type": "code",
   "execution_count": 15,
   "metadata": {
    "scrolled": false
   },
   "outputs": [
    {
     "data": {
      "image/png": "[encoded data removed]",
      "text/plain": [
       "<Figure size 720x576 with 1 Axes>"
      ]
     },
     "metadata": {
      "needs_background": "light"
     },
     "output_type": "display_data"
    }
   ],
   "source": [
    "plt.figure(figsize=(10, 8))\n",
    "plt.title(\"Mortality by Age\")\n",
    "ax3 = sns.regplot(x='age', y='dead', data=data, y_jitter=0.01, logistic=True, truncate=True, \n",
    "                  scatter_kws={'s':5, 'alpha':1}, line_kws={'color':'red'})"
   ]
  },
  {
   "cell_type": "markdown",
   "metadata": {},
   "source": [
    "First, we modify the data to feed into the model. This essentially entails filling in null values, and converting all strings to their numerical form. For example, we know that sex is an important co-morbidity in coronavirus complications. We can encode it using a technique called <a href='https://en.wikipedia.org/wiki/One-hot'>one-hot encoding</a>. For more complicated scenarios like filling in null values, there are a variety of options. The route I have chosen is to use the mean of the variable across all entries."
   ]
  },
  {
   "cell_type": "code",
   "execution_count": 16,
   "metadata": {},
   "outputs": [
    {
     "data": {
      "text/html": [
       "<div>\n",
       "<style scoped>\n",
       "    .dataframe tbody tr th:only-of-type {\n",
       "        vertical-align: middle;\n",
       "    }\n",
       "\n",
       "    .dataframe tbody tr th {\n",
       "        vertical-align: top;\n",
       "    }\n",
       "\n",
       "    .dataframe thead th {\n",
       "        text-align: right;\n",
       "    }\n",
       "</style>\n",
       "<table border=\"1\" class=\"dataframe\">\n",
       "  <thead>\n",
       "    <tr style=\"text-align: right;\">\n",
       "      <th></th>\n",
       "      <th>sex</th>\n",
       "      <th>country</th>\n",
       "      <th>province</th>\n",
       "      <th>city</th>\n",
       "      <th>infection_case</th>\n",
       "      <th>infection_order</th>\n",
       "      <th>contact_number</th>\n",
       "      <th>symptom_onset_date</th>\n",
       "      <th>confirmed_date</th>\n",
       "      <th>released_date</th>\n",
       "      <th>deceased_date</th>\n",
       "      <th>state</th>\n",
       "      <th>age</th>\n",
       "      <th>time_before_hospitalization</th>\n",
       "      <th>time_in_hospital</th>\n",
       "      <th>dead</th>\n",
       "      <th>bias</th>\n",
       "    </tr>\n",
       "  </thead>\n",
       "  <tbody>\n",
       "    <tr>\n",
       "      <th>0</th>\n",
       "      <td>0</td>\n",
       "      <td>Korea</td>\n",
       "      <td>Seoul</td>\n",
       "      <td>Gangseo-gu</td>\n",
       "      <td>overseas inflow</td>\n",
       "      <td>1.0</td>\n",
       "      <td>75.0</td>\n",
       "      <td>2020-01-22</td>\n",
       "      <td>2020-01-23</td>\n",
       "      <td>2020-02-05</td>\n",
       "      <td>NaN</td>\n",
       "      <td>released</td>\n",
       "      <td>56.0</td>\n",
       "      <td>1 days</td>\n",
       "      <td>13.0</td>\n",
       "      <td>0</td>\n",
       "      <td>1.0</td>\n",
       "    </tr>\n",
       "    <tr>\n",
       "      <th>1</th>\n",
       "      <td>0</td>\n",
       "      <td>Korea</td>\n",
       "      <td>Seoul</td>\n",
       "      <td>Jungnang-gu</td>\n",
       "      <td>overseas inflow</td>\n",
       "      <td>1.0</td>\n",
       "      <td>31.0</td>\n",
       "      <td>NaT</td>\n",
       "      <td>2020-01-30</td>\n",
       "      <td>2020-03-02</td>\n",
       "      <td>NaN</td>\n",
       "      <td>released</td>\n",
       "      <td>33.0</td>\n",
       "      <td>NaT</td>\n",
       "      <td>32.0</td>\n",
       "      <td>0</td>\n",
       "      <td>1.0</td>\n",
       "    </tr>\n",
       "    <tr>\n",
       "      <th>2</th>\n",
       "      <td>0</td>\n",
       "      <td>Korea</td>\n",
       "      <td>Seoul</td>\n",
       "      <td>Jongno-gu</td>\n",
       "      <td>contact with patient</td>\n",
       "      <td>2.0</td>\n",
       "      <td>17.0</td>\n",
       "      <td>NaT</td>\n",
       "      <td>2020-01-30</td>\n",
       "      <td>2020-02-19</td>\n",
       "      <td>NaN</td>\n",
       "      <td>released</td>\n",
       "      <td>56.0</td>\n",
       "      <td>NaT</td>\n",
       "      <td>20.0</td>\n",
       "      <td>0</td>\n",
       "      <td>1.0</td>\n",
       "    </tr>\n",
       "    <tr>\n",
       "      <th>3</th>\n",
       "      <td>0</td>\n",
       "      <td>Korea</td>\n",
       "      <td>Seoul</td>\n",
       "      <td>Mapo-gu</td>\n",
       "      <td>overseas inflow</td>\n",
       "      <td>1.0</td>\n",
       "      <td>9.0</td>\n",
       "      <td>2020-01-26</td>\n",
       "      <td>2020-01-30</td>\n",
       "      <td>2020-02-15</td>\n",
       "      <td>NaN</td>\n",
       "      <td>released</td>\n",
       "      <td>29.0</td>\n",
       "      <td>4 days</td>\n",
       "      <td>16.0</td>\n",
       "      <td>0</td>\n",
       "      <td>1.0</td>\n",
       "    </tr>\n",
       "    <tr>\n",
       "      <th>4</th>\n",
       "      <td>1</td>\n",
       "      <td>Korea</td>\n",
       "      <td>Seoul</td>\n",
       "      <td>Seongbuk-gu</td>\n",
       "      <td>contact with patient</td>\n",
       "      <td>2.0</td>\n",
       "      <td>2.0</td>\n",
       "      <td>NaT</td>\n",
       "      <td>2020-01-31</td>\n",
       "      <td>2020-02-24</td>\n",
       "      <td>NaN</td>\n",
       "      <td>released</td>\n",
       "      <td>28.0</td>\n",
       "      <td>NaT</td>\n",
       "      <td>24.0</td>\n",
       "      <td>0</td>\n",
       "      <td>1.0</td>\n",
       "    </tr>\n",
       "  </tbody>\n",
       "</table>\n",
       "</div>"
      ],
      "text/plain": [
       "   sex country province         city        infection_case  infection_order  \\\n",
       "0    0   Korea    Seoul   Gangseo-gu       overseas inflow              1.0   \n",
       "1    0   Korea    Seoul  Jungnang-gu       overseas inflow              1.0   \n",
       "2    0   Korea    Seoul    Jongno-gu  contact with patient              2.0   \n",
       "3    0   Korea    Seoul      Mapo-gu       overseas inflow              1.0   \n",
       "4    1   Korea    Seoul  Seongbuk-gu  contact with patient              2.0   \n",
       "\n",
       "   contact_number symptom_onset_date confirmed_date released_date  \\\n",
       "0            75.0         2020-01-22     2020-01-23    2020-02-05   \n",
       "1            31.0                NaT     2020-01-30    2020-03-02   \n",
       "2            17.0                NaT     2020-01-30    2020-02-19   \n",
       "3             9.0         2020-01-26     2020-01-30    2020-02-15   \n",
       "4             2.0                NaT     2020-01-31    2020-02-24   \n",
       "\n",
       "  deceased_date     state   age time_before_hospitalization  time_in_hospital  \\\n",
       "0           NaN  released  56.0                      1 days              13.0   \n",
       "1           NaN  released  33.0                         NaT              32.0   \n",
       "2           NaN  released  56.0                         NaT              20.0   \n",
       "3           NaN  released  29.0                      4 days              16.0   \n",
       "4           NaN  released  28.0                         NaT              24.0   \n",
       "\n",
       "   dead  bias  \n",
       "0     0   1.0  \n",
       "1     0   1.0  \n",
       "2     0   1.0  \n",
       "3     0   1.0  \n",
       "4     0   1.0  "
      ]
     },
     "execution_count": 16,
     "metadata": {},
     "output_type": "execute_result"
    }
   ],
   "source": [
    "model = data.copy()\n",
    "model['bias'] = 1.0 #intercept term\n",
    "model['time_in_hospital'] = model['time_in_hospital'].\\\n",
    "                                    fillna(np.mean(data['time_in_hospital'])).\\\n",
    "                                    apply(pd.Timedelta.total_seconds) / (24*60*60)\n",
    "model['sex'] = (model['sex'].factorize()[0]).astype(int) #one-hot encode sex\n",
    "model.head()"
   ]
  },
  {
   "cell_type": "markdown",
   "metadata": {},
   "source": [
    "I have decided on a 4 dimensional logistic regression (1 intercept term + 3 variables). The equation for our model below is: \n",
    "$$P(death) = \\sigma(\\beta_{0}+\\beta_{1}*x_1+\\beta_{2}*x_2+\\beta_{3}*x_3)$$\n",
    "Where <a href='https://en.wikipedia.org/wiki/Sigma_function'>sigma</a> is defined as $$\\sigma(t)=\\frac{1}{1+e^{-t}}$$ and $x_1, x_2, x_3$ are our variables (age, sex, time in hospital).\n",
    "\n",
    "The logistic regression model solves for optimal betas, where optimal is defined as minimizing some loss function. Logistic regression generally uses <a href='https://en.wikipedia.org/wiki/Cross_entropy#Cross-entropy_loss_function_and_logistic_regression'>cross-entropy loss</a>."
   ]
  },
  {
   "cell_type": "code",
   "execution_count": 17,
   "metadata": {},
   "outputs": [],
   "source": [
    "def vectorize(t, features, y):\n",
    "    return t[features].values.T, t[y].values\n",
    "\n",
    "features = ['bias', 'age', 'sex', 'time_in_hospital']\n",
    "X_train, y_train = vectorize(t=model, features=features, y='dead')"
   ]
  },
  {
   "cell_type": "code",
   "execution_count": 18,
   "metadata": {},
   "outputs": [
    {
     "name": "stdout",
     "output_type": "stream",
     "text": [
      "bias coefficient: -8.392651804457564\n",
      "age coefficient: 0.09238093162215619\n",
      "sex coefficient: -1.4829568336690335\n",
      "time_in_hospital coefficient: -0.02228844707944757\n"
     ]
    }
   ],
   "source": [
    "from sklearn.linear_model import LogisticRegression\n",
    "\n",
    "lr = LogisticRegression(fit_intercept=False, C=1e9, solver='lbfgs')\n",
    "lr.fit(X_train.T, y_train)\n",
    "\n",
    "for i in range(len(features)):\n",
    "    print(features[i] + \" coefficient: \" + str(lr.coef_[0][i]))"
   ]
  },
  {
   "cell_type": "code",
   "execution_count": 19,
   "metadata": {},
   "outputs": [],
   "source": [
    "def sigma(t):\n",
    "    return 1 / (1 + np.e**(-t))"
   ]
  },
  {
   "cell_type": "code",
   "execution_count": 20,
   "metadata": {
    "scrolled": false
   },
   "outputs": [
    {
     "data": {
      "image/png": "[encoded data removed]",
      "text/plain": [
       "<Figure size 720x576 with 1 Axes>"
      ]
     },
     "metadata": {
      "needs_background": "light"
     },
     "output_type": "display_data"
    }
   ],
   "source": [
    "age_bins = np.linspace(np.min(model['age']), np.max(model['age']), 21)\n",
    "averages = [np.average(model[np.abs(model['age']-a)<3]['dead']) for a in age_bins]\n",
    "plt.figure(figsize=(10, 8))\n",
    "plt.title(\"Predicted Mortality by Age\")\n",
    "ax4 = sns.scatterplot(x='age', y='dead', data=model)\n",
    "plt.scatter(age_bins, averages, label = 'binned means')\n",
    "plt.plot(age_bins, sigma(lr.coef_[0][0] + age_bins * lr.coef_[0][1]), color='r', label = 'logistic model')\n",
    "suppressor = plt.legend()"
   ]
  },
  {
   "cell_type": "markdown",
   "metadata": {},
   "source": [
    "Above we have plotted a 2-dimensional cross-section of our 4 dimensional model. Time in hospital and sex have been projected onto the age-dead plane."
   ]
  },
  {
   "cell_type": "markdown",
   "metadata": {},
   "source": [
    "## Classification ##\n",
    "Finally, we can use our trained model to predict the probability of dying from COVID given our feature variables. Classification, accuracy, precision, and recall are not directly applicable here as we simply want a probability given out input. These \"extra\" metrics are generally used to determine the viability of our model on unseen data."
   ]
  },
  {
   "cell_type": "code",
   "execution_count": 21,
   "metadata": {},
   "outputs": [],
   "source": [
    "def predict(X, betas):\n",
    "    return sigma(X.T @ betas)\n",
    "\n",
    "def classify(preds, threshold = 0.5):\n",
    "    return np.int64(preds >= threshold)\n",
    "    \n",
    "def accuracy(actual, pred):\n",
    "    return np.mean(actual == pred)\n",
    "\n",
    "def precision(actual, pred):\n",
    "    tp = sum((actual == pred) & (actual == 1))\n",
    "    tn = sum((actual == pred) & (actual == 0))\n",
    "    fp = sum((actual != pred) & (actual == 0))\n",
    "    fn = sum((actual != pred) & (actual == 1))\n",
    "    return tp / (tp + fp)\n",
    "\n",
    "def recall(actual, pred):\n",
    "    tp = sum((actual == pred) & (actual == 1))\n",
    "    tn = sum((actual == pred) & (actual == 0))\n",
    "    fp = sum((actual != pred) & (actual == 0))\n",
    "    fn = sum((actual != pred) & (actual == 1))\n",
    "    return tp / (tp + fn)"
   ]
  },
  {
   "cell_type": "code",
   "execution_count": 22,
   "metadata": {
    "scrolled": false
   },
   "outputs": [
    {
     "data": {
      "text/html": [
       "<div>\n",
       "<style scoped>\n",
       "    .dataframe tbody tr th:only-of-type {\n",
       "        vertical-align: middle;\n",
       "    }\n",
       "\n",
       "    .dataframe tbody tr th {\n",
       "        vertical-align: top;\n",
       "    }\n",
       "\n",
       "    .dataframe thead th {\n",
       "        text-align: right;\n",
       "    }\n",
       "</style>\n",
       "<table border=\"1\" class=\"dataframe\">\n",
       "  <thead>\n",
       "    <tr style=\"text-align: right;\">\n",
       "      <th></th>\n",
       "      <th>age</th>\n",
       "      <th>sex</th>\n",
       "      <th>time in hospital</th>\n",
       "      <th>probability</th>\n",
       "    </tr>\n",
       "  </thead>\n",
       "  <tbody>\n",
       "    <tr>\n",
       "      <th>0</th>\n",
       "      <td>1.0</td>\n",
       "      <td>male</td>\n",
       "      <td>1.0</td>\n",
       "      <td>0.000243</td>\n",
       "    </tr>\n",
       "    <tr>\n",
       "      <th>1</th>\n",
       "      <td>1.0</td>\n",
       "      <td>male</td>\n",
       "      <td>2.0</td>\n",
       "      <td>0.000238</td>\n",
       "    </tr>\n",
       "    <tr>\n",
       "      <th>2</th>\n",
       "      <td>1.0</td>\n",
       "      <td>male</td>\n",
       "      <td>3.0</td>\n",
       "      <td>0.000232</td>\n",
       "    </tr>\n",
       "    <tr>\n",
       "      <th>3</th>\n",
       "      <td>1.0</td>\n",
       "      <td>male</td>\n",
       "      <td>4.0</td>\n",
       "      <td>0.000227</td>\n",
       "    </tr>\n",
       "    <tr>\n",
       "      <th>4</th>\n",
       "      <td>1.0</td>\n",
       "      <td>male</td>\n",
       "      <td>5.0</td>\n",
       "      <td>0.000222</td>\n",
       "    </tr>\n",
       "  </tbody>\n",
       "</table>\n",
       "</div>"
      ],
      "text/plain": [
       "   age   sex  time in hospital  probability\n",
       "0  1.0  male               1.0     0.000243\n",
       "1  1.0  male               2.0     0.000238\n",
       "2  1.0  male               3.0     0.000232\n",
       "3  1.0  male               4.0     0.000227\n",
       "4  1.0  male               5.0     0.000222"
      ]
     },
     "execution_count": 22,
     "metadata": {},
     "output_type": "execute_result"
    }
   ],
   "source": [
    "from itertools import product\n",
    "prob = []\n",
    "for a, s, t in product(np.linspace(1, 100, 100), \n",
    "                       (0, 1),\n",
    "                       np.linspace(1, 40, 40)):\n",
    "    prob.append([a, s+101, t] + [predict(np.array([1, a, s, t]), lr.coef_[0])])\n",
    "    \n",
    "predictions = pd.DataFrame(np.array(prob)).\\\n",
    "                rename(columns={0: 'age', 1: 'sex', 2: 'time in hospital', 3: 'probability'}).\\\n",
    "                replace({101: 'male', 102:'female'})\n",
    "predictions.head()"
   ]
  },
  {
   "cell_type": "code",
   "execution_count": 23,
   "metadata": {
    "scrolled": false
   },
   "outputs": [
    {
     "data": {
      "image/png": "[encoded data removed]",
      "text/plain": [
       "<Figure size 432x288 with 1 Axes>"
      ]
     },
     "metadata": {
      "needs_background": "light"
     },
     "output_type": "display_data"
    }
   ],
   "source": [
    "male = predictions[predictions['sex']=='male'].groupby('age').mean()\n",
    "female = predictions[predictions['sex']=='female'].groupby('age').mean()\n",
    "plt.title(\"Age vs Mortality by Sex\")\n",
    "ax5 = plt.plot(male.index, male['probability'], label='male')\n",
    "ax5 = plt.plot(female.index, female['probability'], label='female')\n",
    "suppressor = plt.legend()"
   ]
  },
  {
   "cell_type": "code",
   "execution_count": 24,
   "metadata": {},
   "outputs": [
    {
     "data": {
      "image/png": "[encoded data removed]",
      "text/plain": [
       "<Figure size 432x288 with 1 Axes>"
      ]
     },
     "metadata": {
      "needs_background": "light"
     },
     "output_type": "display_data"
    }
   ],
   "source": [
    "hospital = predictions.groupby('time in hospital').mean()\n",
    "plt.title(\"Time in Hospital vs Mortality\")\n",
    "ax6 = plt.plot(hospital.index, hospital['probability'])"
   ]
  },
  {
   "cell_type": "markdown",
   "metadata": {},
   "source": [
    "In conclusion, we can see that even a limited amout of data can reveal profound facts. Specifically, we initially noted that median time spent in a hospital were elevated in infections caused in either a nursing home (high age) or silver mine (poor respiratory health). In hindsight, these details that unbiasedly popped out of the data, can reveal the pathology of the virus.\n",
    "\n",
    "Most importantly, however, the coronavirus has stressed the importance of data-driven healthcare. It is easy to see how physician-scientists of the future can incorporate medical knowledge with data technologies to improve global healthcare. "
   ]
  }
 ],
 "metadata": {
  "kernelspec": {
   "display_name": "Python 3",
   "language": "python",
   "name": "python3"
  },
  "language_info": {
   "codemirror_mode": {
    "name": "ipython",
    "version": 3
   },
   "file_extension": ".py",
   "mimetype": "text/x-python",
   "name": "python",
   "nbconvert_exporter": "python",
   "pygments_lexer": "ipython3",
   "version": "3.7.7"
  }
 },
 "nbformat": 4,
 "nbformat_minor": 4
}
